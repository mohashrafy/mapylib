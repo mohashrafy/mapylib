{
 "cells": [
  {
   "cell_type": "code",
   "execution_count": 2,
   "id": "494546bd-852c-44e5-8863-a3731fa2b9c6",
   "metadata": {},
   "outputs": [],
   "source": [
    "from pathlib import Path\n",
    "from loguru import logger\n",
    "import sqlite3"
   ]
  },
  {
   "cell_type": "code",
   "execution_count": 3,
   "id": "d46533bb-3fe0-47d4-8252-2375304f6bd8",
   "metadata": {},
   "outputs": [],
   "source": [
    "cwd_path = Path.cwd()\n"
   ]
  },
  {
   "cell_type": "code",
   "execution_count": 4,
   "id": "e6669eb6-306b-4d42-a941-0ad7ff4c9d6b",
   "metadata": {},
   "outputs": [
    {
     "data": {
      "text/plain": [
       "'/mnt/c/users/MohammadAshrafy/desktop/pylib'"
      ]
     },
     "execution_count": 4,
     "metadata": {},
     "output_type": "execute_result"
    }
   ],
   "source": [
    "cwd_path.__str__()"
   ]
  },
  {
   "cell_type": "code",
   "execution_count": 9,
   "id": "8ede7cf4-6422-4a78-8deb-a6df7b268c2b",
   "metadata": {},
   "outputs": [],
   "source": [
    "db_path = cwd_path.joinpath('data/pylib_db.db')"
   ]
  },
  {
   "cell_type": "code",
   "execution_count": 10,
   "id": "60e23ab3-7800-4d19-8337-4ee9aa343096",
   "metadata": {},
   "outputs": [
    {
     "data": {
      "text/plain": [
       "'/mnt/c/users/MohammadAshrafy/desktop/pylib/data/pylib_db.db'"
      ]
     },
     "execution_count": 10,
     "metadata": {},
     "output_type": "execute_result"
    }
   ],
   "source": [
    "db_path.__str__()"
   ]
  },
  {
   "cell_type": "code",
   "execution_count": 11,
   "id": "cfbc423f-3a4c-4585-84e6-50c074052674",
   "metadata": {},
   "outputs": [
    {
     "data": {
      "text/plain": [
       "'/mnt/c/users/MohammadAshrafy/desktop/pylib/data/pylib_db.db'"
      ]
     },
     "execution_count": 11,
     "metadata": {},
     "output_type": "execute_result"
    }
   ],
   "source": [
    "str(db_path)"
   ]
  },
  {
   "cell_type": "code",
   "execution_count": 23,
   "id": "49fab4b6-d1b7-44aa-bba4-19f4642ecf82",
   "metadata": {},
   "outputs": [],
   "source": [
    "logger.add('db_log.log')\n",
    "def first_run():\n",
    "    logger.debug('the code is running for the first time.')\n",
    "    # creating database\n",
    "    conn = sqlite3.connect('data/pylib_db.db')\n",
    "    logger.debug('database is created.')\n",
    "    c = conn.cursor()"
   ]
  },
  {
   "cell_type": "code",
   "execution_count": 24,
   "id": "47e4a0ab-cc11-467d-bac6-35eb69a233d2",
   "metadata": {},
   "outputs": [
    {
     "name": "stderr",
     "output_type": "stream",
     "text": [
      "2022-09-29 01:01:14.455 | DEBUG    | __main__:first_run:3 - the code is running for the first time.\n"
     ]
    },
    {
     "ename": "OperationalError",
     "evalue": "unable to open database file",
     "output_type": "error",
     "traceback": [
      "\u001b[0;31m---------------------------------------------------------------------------\u001b[0m",
      "\u001b[0;31mOperationalError\u001b[0m                          Traceback (most recent call last)",
      "Input \u001b[0;32mIn [24]\u001b[0m, in \u001b[0;36m<cell line: 1>\u001b[0;34m()\u001b[0m\n\u001b[0;32m----> 1\u001b[0m \u001b[43mfirst_run\u001b[49m\u001b[43m(\u001b[49m\u001b[43m)\u001b[49m\n",
      "Input \u001b[0;32mIn [23]\u001b[0m, in \u001b[0;36mfirst_run\u001b[0;34m()\u001b[0m\n\u001b[1;32m      3\u001b[0m logger\u001b[38;5;241m.\u001b[39mdebug(\u001b[38;5;124m'\u001b[39m\u001b[38;5;124mthe code is running for the first time.\u001b[39m\u001b[38;5;124m'\u001b[39m)\n\u001b[1;32m      4\u001b[0m \u001b[38;5;66;03m# creating database\u001b[39;00m\n\u001b[0;32m----> 5\u001b[0m conn \u001b[38;5;241m=\u001b[39m \u001b[43msqlite3\u001b[49m\u001b[38;5;241;43m.\u001b[39;49m\u001b[43mconnect\u001b[49m\u001b[43m(\u001b[49m\u001b[38;5;124;43m'\u001b[39;49m\u001b[38;5;124;43mdata/pylib_db.db\u001b[39;49m\u001b[38;5;124;43m'\u001b[39;49m\u001b[43m)\u001b[49m\n\u001b[1;32m      6\u001b[0m logger\u001b[38;5;241m.\u001b[39mdebug(\u001b[38;5;124m'\u001b[39m\u001b[38;5;124mdatabase is created.\u001b[39m\u001b[38;5;124m'\u001b[39m)\n\u001b[1;32m      7\u001b[0m c \u001b[38;5;241m=\u001b[39m conn\u001b[38;5;241m.\u001b[39mcursor()\n",
      "\u001b[0;31mOperationalError\u001b[0m: unable to open database file"
     ]
    }
   ],
   "source": [
    "first_run()"
   ]
  },
  {
   "cell_type": "code",
   "execution_count": null,
   "id": "fefd5582-908e-4cab-9a98-cebf179fe52e",
   "metadata": {},
   "outputs": [],
   "source": []
  },
  {
   "cell_type": "code",
   "execution_count": null,
   "id": "58d4214e-0192-4d22-88c8-d6e65c7d9da8",
   "metadata": {},
   "outputs": [],
   "source": []
  }
 ],
 "metadata": {
  "kernelspec": {
   "display_name": "Python 3 (ipykernel)",
   "language": "python",
   "name": "python3"
  },
  "language_info": {
   "codemirror_mode": {
    "name": "ipython",
    "version": 3
   },
   "file_extension": ".py",
   "mimetype": "text/x-python",
   "name": "python",
   "nbconvert_exporter": "python",
   "pygments_lexer": "ipython3",
   "version": "3.10.4"
  }
 },
 "nbformat": 4,
 "nbformat_minor": 5
}
